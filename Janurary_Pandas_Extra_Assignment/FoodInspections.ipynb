{
 "cells": [
  {
   "cell_type": "code",
   "execution_count": 1,
   "id": "5f0932f0",
   "metadata": {},
   "outputs": [],
   "source": [
    "import pandas as pd\n",
    "import matplotlib.pyplot as plt\n"
   ]
  },
  {
   "cell_type": "code",
   "execution_count": null,
   "id": "c2941d36",
   "metadata": {},
   "outputs": [],
   "source": [
    "original_inspections_df = pd.read_csv('rawdata/LMG_Inspection_Violations_of_Failed_Restaurants.csv')\n",
    "original_inspections_df\n",
    "#print(original_inspections_df.describe)\n",
    "#print(original_inspections_df.columns)\n",
    "#print(original_inspections_df.shape)"
   ]
  },
  {
   "cell_type": "code",
   "execution_count": null,
   "id": "1feb75b7",
   "metadata": {},
   "outputs": [],
   "source": [
    "#original_inspections_df['ViolationDesc'].unique\n",
    "grouped = original_inspections_df.groupby('premise_zip') \n",
    "print(original_inspections_df.loc[:, ['premise_zip', 'critical_yn', 'score', 'InspectionDate']])\n",
    "#return original_inspections_df\n",
    "unique_zip = original_inspections_df['premise_zip'].nunique\n",
    "#print(new_df)\n",
    "#for index, row in original_inspections_df.iterrows():\n",
    "#    print(f\"Row {index}:\")\n",
    "#    for col in original_inspections_df.columns:\n",
    "#        print(f\" {col}: {row[col]}\")\n",
    "\n",
    "print(unique_zip)"
   ]
  },
  {
   "cell_type": "code",
   "execution_count": null,
   "id": "6e460bcc",
   "metadata": {},
   "outputs": [],
   "source": [
    "#original_inspections_df = original_inspections_df.sort_values(by='premise_zip')\n",
    "original_inspections_df.head(150).plot(kind=\"bar\", x=\"premise_zip\", y=\"score\", title=\"Inspections by Zip Code\")\n",
    "plt.plot()"
   ]
  },
  {
   "cell_type": "code",
   "execution_count": null,
   "id": "e63d9a42",
   "metadata": {},
   "outputs": [],
   "source": [
    "import pandas as pd\n",
    "import matplotlib.pyplot as plt\n",
    "\n",
    "# Sample DataFrame\n",
    "df = pd.read_csv('rawdata/LMG_Inspection_Violations_of_Failed_Restaurants.csv')\n",
    "\n",
    "# Group by 'Premise Zip Code'\n",
    "filtered_df = df[df['score'] < 85]\n",
    "grouped = filtered_df.groupby('premise_zip')\n",
    "\n",
    "# Iterate through groups\n",
    "#for name, group in grouped:\n",
    "#    print(f\"Group: {name}\")\n",
    "    # Iterate through rows in each group\n",
    "#    for index, row in group.iterrows():\n",
    "        \n",
    "#        print(f\"Zip Code: {row['premise_zip']}, Score: {row['score']}, Critical Violation: {row['critical_yn']}\")\n",
    "effect = filtered_df[\"premise_zip\"].value_counts()\n",
    "#filtered_df.plot(kind=\"bar\", x=\"premise_zip\", y=\"score\", title=\"Inspections by Zip Code\")\n",
    "#plt.plot()\n",
    "plt.bar(x=df['premise_zip'], height=df['score'], color=[\"red\"])\n",
    "plt.figure(figsize=(8,6))\n",
    "plt.ylabel(\"Number of Failed Inspections\")\n",
    "plt.xlabel(\"Zip Code\")\n",
    "plt.title(\"Restaurant Failed Inspections\")\n",
    "plt.show()"
   ]
  },
  {
   "cell_type": "code",
   "execution_count": null,
   "id": "bcc3d147",
   "metadata": {},
   "outputs": [],
   "source": [
    "import pandas as pd\n",
    "\n",
    "# Sample DataFrame\n",
    "data = {'col1': ['A', 'B', 'A', 'C', 'B'], \n",
    "        'col2': [1, 2, 3, 4, 5]}\n",
    "df = pd.DataFrame(data)\n",
    "\n",
    "# Group by 'col1'\n",
    "grouped = df.groupby('col1')\n",
    "\n",
    "# Iterate through groups\n",
    "for name, group in grouped:\n",
    "    print(f\"Group: {name}\")\n",
    "    # Iterate through rows in each group\n",
    "    for index, row in group.iterrows():\n",
    "        print(f\"  Index: {index}, col1: {row['col1']}, col2: {row['col2']}\")"
   ]
  },
  {
   "cell_type": "code",
   "execution_count": null,
   "id": "64465aca",
   "metadata": {},
   "outputs": [],
   "source": [
    "import ipywidgets as widgets\n",
    "from ipywidgets import interact\n",
    "import pandas as pd\n",
    "import matplotlib.pyplot as plt\n",
    "import numpy as np\n",
    "\n",
    "# Create a sample DataFrame\n",
    "# # Sample DataFrame\n",
    "df = pd.read_csv('rawdata/LMG_Inspection_Violations_of_Failed_Restaurants.csv')\n",
    "#df = pd.DataFrame(data)\n",
    "# Group by 'Premise Zip Code'\n",
    "filtered_df = df[df['score'] < 85]\n",
    "grouped = filtered_df.groupby('premise_zip')\n",
    "\n",
    "# Function to update the plot\n",
    "def update_plot(column):\n",
    "    plt.figure()\n",
    "    plt.plot(df[column])\n",
    "    plt.title(f'Plot of {column}')\n",
    "    plt.show()\n",
    "\n",
    "# Create an interactive dropdown widget\n",
    "column_dropdown = widgets.Dropdown(options=df.columns, description='Select Column:')\n",
    "interact(update_plot, column=column_dropdown)"
   ]
  },
  {
   "cell_type": "code",
   "execution_count": null,
   "id": "96decd20",
   "metadata": {},
   "outputs": [
    {
     "data": {
      "application/vnd.jupyter.widget-view+json": {
       "model_id": "89abc7f9b65d4cd8abfd65c931bd7ea9",
       "version_major": 2,
       "version_minor": 0
      },
      "text/plain": [
       "IntText(value=0, description='Enter Value:')"
      ]
     },
     "metadata": {},
     "output_type": "display_data"
    },
    {
     "data": {
      "application/vnd.jupyter.widget-view+json": {
       "model_id": "3751e9f5821444598e5b12bebd6937ae",
       "version_major": 2,
       "version_minor": 0
      },
      "text/plain": [
       "Output()"
      ]
     },
     "metadata": {},
     "output_type": "display_data"
    }
   ],
   "source": [
    "import pandas as pd\n",
    "import matplotlib.pyplot as plt\n",
    "import ipywidgets as widgets\n",
    "from IPython.display import display\n",
    "\n",
    "# Sample DataFrame\n",
    "df = pd.read_csv('rawdata/LMG_Inspection_Violations_of_Failed_Restaurants.csv')\n",
    "\n",
    "# Create textbox widget for numeric input\n",
    "textbox = widgets.IntText(description=\"Enter Value:\")\n",
    "\n",
    "# Create output widget for displaying results\n",
    "output = widgets.Output()\n",
    "\n",
    "# Function to search DataFrame and update plot\n",
    "def search_and_plot(value):\n",
    "    with output:\n",
    "        output.clear_output()\n",
    "        if value is not None:\n",
    "            # Filter DataFrame based on textbox value\n",
    "            filtered_df = df[df['premise_zip'] == value]\n",
    "\n",
    "            if not filtered_df.empty:\n",
    "                # Create bar plot\n",
    "                plt.bar(filtered_df.index, filtered_df['score'])\n",
    "                plt.xlabel('Index')\n",
    "                plt.ylabel('col2 Value')\n",
    "                plt.title(f'Values in col2 where col1 is {value}')\n",
    "                plt.show()\n",
    "            else:\n",
    "                 print(f\"No matching values found for {value} in col1.\")\n",
    "\n",
    "# Observe changes in textbox value\n",
    "def on_value_change(change):\n",
    "    search_and_plot(change['new'])\n",
    "\n",
    "textbox.observe(on_value_change, names='value')\n",
    "\n",
    "# Display widgets\n",
    "display(textbox, output)"
   ]
  }
 ],
 "metadata": {
  "kernelspec": {
   "display_name": "Python 3",
   "language": "python",
   "name": "python3"
  },
  "language_info": {
   "codemirror_mode": {
    "name": "ipython",
    "version": 3
   },
   "file_extension": ".py",
   "mimetype": "text/x-python",
   "name": "python",
   "nbconvert_exporter": "python",
   "pygments_lexer": "ipython3",
   "version": "3.13.1"
  }
 },
 "nbformat": 4,
 "nbformat_minor": 5
}
